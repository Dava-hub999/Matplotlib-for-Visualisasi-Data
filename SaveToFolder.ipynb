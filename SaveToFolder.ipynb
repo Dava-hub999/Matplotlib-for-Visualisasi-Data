{
 "cells": [
  {
   "cell_type": "code",
   "execution_count": 5,
   "metadata": {},
   "outputs": [],
   "source": [
    "import matplotlib\n",
    "import matplotlib.pyplot as plt \n",
    "import numpy as np\n",
    "import os"
   ]
  },
  {
   "cell_type": "code",
   "execution_count": 6,
   "metadata": {},
   "outputs": [
    {
     "data": {
      "text/plain": [
       "{'item A': 1,\n",
       " 'item B': 2,\n",
       " 'item C': 3,\n",
       " 'item D': 4,\n",
       " 'item E': 5,\n",
       " 'item F': 6,\n",
       " 'item G': 7,\n",
       " 'item H': 8,\n",
       " 'item I': 9,\n",
       " 'item J': 10}"
      ]
     },
     "execution_count": 6,
     "metadata": {},
     "output_type": "execute_result"
    }
   ],
   "source": [
    "# Struktur Data Dictionary\n",
    "data={\n",
    "    'item A' : 1,\n",
    "    'item B' : 2,\n",
    "    'item C' : 3,\n",
    "    'item D' : 4,\n",
    "    'item E' : 5,\n",
    "    'item F' : 6,\n",
    "    'item G' : 7,\n",
    "    'item H' : 8,\n",
    "    'item I' : 9,\n",
    "    'item J' : 10,\n",
    "}\n",
    "data"
   ]
  },
  {
   "cell_type": "code",
   "execution_count": 7,
   "metadata": {},
   "outputs": [
    {
     "data": {
      "text/plain": [
       "('item A',\n",
       " 'item B',\n",
       " 'item C',\n",
       " 'item D',\n",
       " 'item E',\n",
       " 'item F',\n",
       " 'item G',\n",
       " 'item H',\n",
       " 'item I',\n",
       " 'item J')"
      ]
     },
     "execution_count": 7,
     "metadata": {},
     "output_type": "execute_result"
    }
   ],
   "source": [
    "# tuple untuk menampung keys\n",
    "items = tuple(data.keys())\n",
    "items"
   ]
  },
  {
   "cell_type": "code",
   "execution_count": 8,
   "metadata": {},
   "outputs": [
    {
     "data": {
      "text/plain": [
       "(1, 2, 3, 4, 5, 6, 7, 8, 9, 10)"
      ]
     },
     "execution_count": 8,
     "metadata": {},
     "output_type": "execute_result"
    }
   ],
   "source": [
    "# tuple untuk menampng values nya\n",
    "count = tuple(data.values())\n",
    "count"
   ]
  },
  {
   "cell_type": "code",
   "execution_count": 9,
   "metadata": {},
   "outputs": [
    {
     "data": {
      "text/plain": [
       "{'eps': 'Encapsulated Postscript',\n",
       " 'jpg': 'Joint Photographic Experts Group',\n",
       " 'jpeg': 'Joint Photographic Experts Group',\n",
       " 'pdf': 'Portable Document Format',\n",
       " 'pgf': 'PGF code for LaTeX',\n",
       " 'png': 'Portable Network Graphics',\n",
       " 'ps': 'Postscript',\n",
       " 'raw': 'Raw RGBA bitmap',\n",
       " 'rgba': 'Raw RGBA bitmap',\n",
       " 'svg': 'Scalable Vector Graphics',\n",
       " 'svgz': 'Scalable Vector Graphics',\n",
       " 'tif': 'Tagged Image File Format',\n",
       " 'tiff': 'Tagged Image File Format'}"
      ]
     },
     "execution_count": 9,
     "metadata": {},
     "output_type": "execute_result"
    }
   ],
   "source": [
    "fig.canvas.get_supported_filetypes()"
   ]
  },
  {
   "cell_type": "code",
   "execution_count": 11,
   "metadata": {},
   "outputs": [
    {
     "name": "stderr",
     "output_type": "stream",
     "text": [
      "C:\\Users\\davar\\AppData\\Local\\Temp\\ipykernel_6896\\3729508750.py:34: MatplotlibDeprecationWarning: savefig() got unexpected keyword argument \"dpl\" which is no longer supported as of 3.3 and will become an error in 3.6\n",
      "  fig.savefig(\n"
     ]
    },
    {
     "data": {
      "image/png": "[encoded data removed]",
      "text/plain": [
       "<Figure size 640x480 with 1 Axes>"
      ]
     },
     "metadata": {},
     "output_type": "display_data"
    }
   ],
   "source": [
    "fig, ax = plt.subplots()\n",
    "ax.barh(items, count)\n",
    "\n",
    "## untuk menambah garis vertikal\n",
    "ax.axvline(\n",
    "    np.mean(count), # bisa diatur berdasarkan nilai x nya \n",
    "    ls='-',\n",
    "    color='r'\n",
    ")\n",
    "\n",
    "# ## untuk menambah garis horizontal\n",
    "# ax.axhline(\n",
    "#     np.mean(count), # bisa diatur berdasarkan nilai x nya \n",
    "#     ls='-',\n",
    "#     color='r'\n",
    "# )\n",
    "\n",
    "ax.set(\n",
    "    title = 'Contoh Plot',\n",
    "    xlabel ='Jumlah',\n",
    "    ylabel = 'Items'\n",
    ")\n",
    "\n",
    "# Coodingan untuk menyimpan ke file\n",
    "\n",
    "# Menentukan folder tempat file akan disimpan\n",
    "folder_path = r'D:\\Python and All Framework\\Visualisasi Data\\HasilGambarPlooting'  # Gunakan \"r\" di depan string untuk menghindari karakter escape\n",
    "\n",
    "# Membuat direktori jika belum ada\n",
    "if not os.path.exists(folder_path):\n",
    "    os.makedirs(folder_path)\n",
    "\n",
    "file_path = os.path.join(folder_path, 'plooting.png')\n",
    "fig.savefig(\n",
    "    file_path,\n",
    "    transparent=False,\n",
    "    dpl=80\n",
    "    )"
   ]
  }
 ],
 "metadata": {
  "kernelspec": {
   "display_name": "base",
   "language": "python",
   "name": "python3"
  },
  "language_info": {
   "codemirror_mode": {
    "name": "ipython",
    "version": 3
   },
   "file_extension": ".py",
   "mimetype": "text/x-python",
   "name": "python",
   "nbconvert_exporter": "python",
   "pygments_lexer": "ipython3",
   "version": "3.9.13"
  },
  "orig_nbformat": 4
 },
 "nbformat": 4,
 "nbformat_minor": 2
}
